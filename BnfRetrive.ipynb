from pymongo import MongoClient   
import pandas as pd
from datetime import datetime
import json
import matplotlib.pyplot as plt
#Date = datetime.date(datetime.now())
try: 
    connt = MongoClient() 
    print("Connected successfully!!!") 
except:   
    print("Could not connect to MongoDB") 
db = connt.bnf2
collection = db.myCollection
d = pd.DataFrame(list(collection.find()))
piv  =d.loc[d['StrikePrice'] == 31300].pivot_table(index='TimeStamp', values=['Spot','CALL_OI','Chg_CallOI','CALL_Volume'])
d.to_excel(r'C:\Users\c.kilari\Desktop\BNFcc.xlsx',sheet_name="BNFcc")
