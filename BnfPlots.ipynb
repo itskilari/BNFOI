import pandas as pd
import numpy as np
import matplotlib.pyplot as plt
import seaborn as sns
from datetime import datetime
from pandas.plotting import register_matplotlib_converters
df=pd.read_excel(r'C:\Users\c.kilari\Desktop\BNF0220.xlsx')
df.columns
#df['TimeStamp']=datetime.datetime.strptime(df['TimeStamp'], '%H:%M:%S')
df['TimeStamp']= pd.to_datetime(df['TimeStamp'])
gb=df.groupby("StrikePrice")
pl=gb.get_group(32300)
#https://stackoverflow.com/questions/14762181/adding-a-y-axis-label-to-secondary-y-axis-in-matplotlib
fig, ax1=plt.subplots(figsize=(15, 8))
ax2=ax1.twinx()
ax1.plot(pl['TimeStamp'],pl['Chg_CallOI'],'g--o')
ax1.plot(pl['TimeStamp'],pl['Chg_PutOI'],'r--o')
ax2.plot(pl['TimeStamp'],pl['Spot'],'b-')
ax1.set_xlabel('Time')
ax2.set_ylabel('Open Interest',color='g')
ax2.set_ylabel('Spot', color='b')
ax1.grid('on') #https://stackoverflow.com/questions/24547047/how-to-make-matplotlib-graphs-look-professionally-done-like-this
plt.show()
